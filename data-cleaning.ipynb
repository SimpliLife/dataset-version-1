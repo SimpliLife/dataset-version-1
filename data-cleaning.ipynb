{
 "cells": [
  {
   "cell_type": "markdown",
   "metadata": {},
   "source": [
    "# Table Schema Symptom \n",
    "```json\n",
    "{\n",
    "  \"id\": \"int\",\n",
    "  \"CategoryId\": \"int\",\n",
    "  \"title\": \"string\",\n",
    "  \"slug\": \"string\",\n",
    "  \"ref\": \"string\",\n",
    "  \"firstQuestion\": \"string\",\n",
    "  \"q\": \"JSON\",\n",
    "  \"createdAt\": \"date\",\n",
    "  \"updatedAt\": \"date\",\n",
    "}\n",
    "```"
   ]
  },
  {
   "cell_type": "code",
   "execution_count": 60,
   "metadata": {},
   "outputs": [],
   "source": [
    "import os\n",
    "import json\n",
    "from datetime import date"
   ]
  },
  {
   "cell_type": "code",
   "execution_count": 61,
   "metadata": {},
   "outputs": [
    {
     "name": "stdout",
     "output_type": "stream",
     "text": [
      "Total data: 30\n"
     ]
    }
   ],
   "source": [
    "dataSymptoms = []\n",
    "for path in os.listdir(\"./\"):\n",
    "    # check if current file_path is a file\n",
    "    condition = (path != '.DS_Store'  and path != 'README.md' and path != '.git' and path != 'data-cleaning.ipynb' and path != 'dataSymptom.json' and path != '.gitignore')\n",
    "    if condition : \n",
    "        CategoryId = path.split(\"-\")[0]\n",
    "        for file_json in os.listdir(f'./{path}'):\n",
    "            \n",
    "            if file_json.endswith('.json') :\n",
    "                data = json.load(open(f'./{path}/{file_json}'))\n",
    "                directory = {\n",
    "                  \"CategoryId\": CategoryId,\n",
    "                  \"title\": data[\"judul\"],\n",
    "                  \"slug\": '-'.join(data[\"judul\"].split(\" \")).lower(),\n",
    "                  \"ref\": file_json.split(\"-\")[0],\n",
    "                  \"firstQuestion\": data[\"pertanyaan\"],\n",
    "                  \"q\": data[\"q\"],\n",
    "                  \"createdAt\": str(date.today()),\n",
    "                  \"updatedAt\": str(date.today()),\n",
    "                }\n",
    "                dataSymptoms.append(directory)\n",
    "\n",
    "print(f'Total data: {len(dataSymptoms)}')\n"
   ]
  },
  {
   "cell_type": "code",
   "execution_count": 62,
   "metadata": {},
   "outputs": [
    {
     "name": "stdout",
     "output_type": "stream",
     "text": [
      "Success save file dataSymptom.json\n"
     ]
    }
   ],
   "source": [
    "jsonData = json.dumps(dataSymptoms, indent=2)\n",
    "with open(\"dataSymptom.json\", \"w\") as outfile:\n",
    "    outfile.write(jsonData)\n",
    "\n",
    "print(\"Success save file dataSymptom.json\")"
   ]
  }
 ],
 "metadata": {
  "kernelspec": {
   "display_name": "base",
   "language": "python",
   "name": "python3"
  },
  "language_info": {
   "codemirror_mode": {
    "name": "ipython",
    "version": 3
   },
   "file_extension": ".py",
   "mimetype": "text/x-python",
   "name": "python",
   "nbconvert_exporter": "python",
   "pygments_lexer": "ipython3",
   "version": "3.11.4"
  },
  "orig_nbformat": 4
 },
 "nbformat": 4,
 "nbformat_minor": 2
}
